{
  "nbformat": 4,
  "nbformat_minor": 0,
  "metadata": {
    "colab": {
      "provenance": [],
      "authorship_tag": "ABX9TyNWMkJhNkMtMQjfQLOTVcCh",
      "include_colab_link": true
    },
    "kernelspec": {
      "name": "python3",
      "display_name": "Python 3"
    },
    "language_info": {
      "name": "python"
    }
  },
  "cells": [
    {
      "cell_type": "markdown",
      "metadata": {
        "id": "view-in-github",
        "colab_type": "text"
      },
      "source": [
        "<a href=\"https://colab.research.google.com/github/Crossroads333/project/blob/main/Project.ipynb\" target=\"_parent\"><img src=\"https://colab.research.google.com/assets/colab-badge.svg\" alt=\"Open In Colab\"/></a>"
      ]
    },
    {
      "cell_type": "code",
      "execution_count": null,
      "metadata": {
        "id": "e0KciO8-i0ht",
        "colab": {
          "base_uri": "https://localhost:8080/"
        },
        "outputId": "e4269e49-bce4-4787-cfdf-01cf74eb6c85"
      },
      "outputs": [
        {
          "output_type": "stream",
          "name": "stdout",
          "text": [
            "Estimated maturity dates calculated and saved to 'Estimated Planting Dates 2025.csv'.\n"
          ]
        }
      ],
      "source": [
        "import csv\n",
        "from datetime import datetime, timedelta\n",
        "\n",
        "#with open('Plant maturity Dates.csv', 'r') as openfile:\n",
        "  #readplantfile= csv.reader(openfile)\n",
        "  #plants = list(readplantfile)\n",
        "#print(*plants, sep='\\n')\n",
        "#print(len(plants))\n",
        "#del plants\n",
        "\n",
        "input_csv = 'Plant maturity Dates.csv'\n",
        "output_csv = 'Estimated Planting Dates 2025.csv'\n",
        "plant_date_str = '2024-04-01'\n",
        "\n",
        "try:\n",
        "    plant_date = datetime.strptime(plant_date_str, '%Y-%m-%d').date()\n",
        "except ValueError:\n",
        "    print(\"Error: Invalid plant date format. Use YYYY-MM-DD.\")\n",
        "    exit()\n",
        "\n",
        "try:\n",
        "    infile = open(input_csv, 'r', newline='', encoding='utf-8')\n",
        "    outfile = open(output_csv, 'w', newline='', encoding='utf-8')\n",
        "\n",
        "    reader = csv.reader(infile)\n",
        "    writer = csv.writer(outfile)\n",
        "\n",
        "    header = next(reader, None)\n",
        "    if header:\n",
        "        header.append('Estimated Maturity Date') #Change Header to reflect the correct date.\n",
        "        writer.writerow(header)\n",
        "\n",
        "    for row in reader:\n",
        "        if len(row) >= 2:\n",
        "            maturity_days = row[1]\n",
        "            try:\n",
        "                maturity_days = int(maturity_days)\n",
        "            except ValueError:\n",
        "                print(f\"Warning: Invalid maturity days '{maturity_days}' in row {row}. Skipping.\")\n",
        "                continue\n",
        "\n",
        "            estimated_maturity_date = plant_date + timedelta(days=maturity_days)\n",
        "            row.append(estimated_maturity_date.strftime('%Y-%m-%d'))\n",
        "            writer.writerow(row)\n",
        "        else:\n",
        "            print(f\"Warning: Insufficient columns in row {row}. Skipping.\")\n",
        "\n",
        "    infile.close()\n",
        "    outfile.close()\n",
        "\n",
        "    print(f\"Estimated maturity dates calculated and saved to '{output_csv}'.\")\n",
        "\n",
        "except FileNotFoundError:\n",
        "    print(f\"Error: Input file '{input_csv}' not found.\")\n",
        "except Exception as e:\n",
        "    print(f\"An unexpected error occurred: {e}\")\n"
      ]
    }
  ]
}